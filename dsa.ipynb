{
  "cells": [
    {
      "cell_type": "markdown",
      "metadata": {
        "id": "view-in-github",
        "colab_type": "text"
      },
      "source": [
        "<a href=\"https://colab.research.google.com/github/qutubullah/Machine-learning/blob/main/dsa.ipynb\" target=\"_parent\"><img src=\"https://colab.research.google.com/assets/colab-badge.svg\" alt=\"Open In Colab\"/></a>"
      ]
    },
    {
      "cell_type": "markdown",
      "source": [
        "###Binary search\n"
      ],
      "metadata": {
        "id": "wm1b9Mfu0Uw-"
      }
    },
    {
      "cell_type": "code",
      "source": [
        "#Binary search\n",
        "def binary(arr,n):\n",
        "  start=0\n",
        "  end=len(arr)-1\n",
        "  while start<=end:\n",
        "    mid=start+(end-start)//2        #as start+end may be larger the limit of compiler\n",
        "    if arr[mid]>n:\n",
        "      end=mid-1\n",
        "    elif arr[mid]<n:\n",
        "      start=mid+1\n",
        "    elif arr[mid]==n:\n",
        "      return mid\n",
        "  return -1\n",
        "arr=[1,3,5,78,543,3222,9870]\n",
        "print(binary(arr,78))"
      ],
      "metadata": {
        "id": "IwYfkiROvQLG",
        "colab": {
          "base_uri": "https://localhost:8080/"
        },
        "outputId": "323d7cc6-055c-4761-d1a4-4dbae5a5eb13"
      },
      "execution_count": null,
      "outputs": [
        {
          "output_type": "stream",
          "name": "stdout",
          "text": [
            "3\n"
          ]
        }
      ]
    },
    {
      "cell_type": "code",
      "source": [
        "#Ceiling of number that is number greater than or equal to tARGET\n",
        "arr=[2,3,4,5,9,14,16,18]\n",
        "target=15\n",
        "def ceil(arr,target):\n",
        "  start=0\n",
        "  end=len(arr)-1\n",
        "  while start<=end:\n",
        "    mid=start+(end-start)//2        #as start+end may be larger the limit of compiler\n",
        "    if arr[mid]>target:\n",
        "      end=mid-1\n",
        "    elif arr[mid]<target:\n",
        "      start=mid+1\n",
        "    else: \n",
        "      return mid\n",
        "  return start\n",
        "ceil(arr,15)"
      ],
      "metadata": {
        "colab": {
          "base_uri": "https://localhost:8080/"
        },
        "id": "YuqIJkn_ab0i",
        "outputId": "f2c2575e-fa2b-46d1-a77c-9f18d478619c"
      },
      "execution_count": null,
      "outputs": [
        {
          "output_type": "execute_result",
          "data": {
            "text/plain": [
              "6"
            ]
          },
          "metadata": {},
          "execution_count": 10
        }
      ]
    },
    {
      "cell_type": "code",
      "source": [
        "#floor\n",
        "arr=[2,3,4,5,9,14,16,18]\n",
        "target=15\n",
        "def ceil(arr,target):\n",
        "  start=0\n",
        "  end=len(arr)-1\n",
        "  while start<=end:\n",
        "    mid=start+(end-start)//2        #as start+end may be larger the limit of compiler\n",
        "    if arr[mid]>target:\n",
        "      end=mid-1\n",
        "    elif arr[mid]<target:\n",
        "      start=mid+1\n",
        "    else: \n",
        "      return mid\n",
        "  return arr[end]\n",
        "ceil(arr,15)"
      ],
      "metadata": {
        "colab": {
          "base_uri": "https://localhost:8080/"
        },
        "id": "Ym2lqUpqab3-",
        "outputId": "9161c615-f68b-4311-e9a6-12e1639a39ab"
      },
      "execution_count": null,
      "outputs": [
        {
          "output_type": "execute_result",
          "data": {
            "text/plain": [
              "14"
            ]
          },
          "metadata": {},
          "execution_count": 12
        }
      ]
    },
    {
      "cell_type": "code",
      "source": [
        "# Find next greater character\n",
        "arr=[\"c\",\"d\",\"j\",\"j\"]\n",
        "\n",
        "def next_char(arr,target):\n",
        "  start=0\n",
        "  end=len(arr)-1\n",
        "  while start<=end:\n",
        "    mid=start+(end-start)//2        #as start+end may be larger the limit of compiler\n",
        "    if arr[mid]>target:\n",
        "      end=mid-1\n",
        "    elif arr[mid]<=target:\n",
        "      start=mid+1\n",
        "  return arr[start%len(arr)]\n",
        "next_char(arr,\"j\")"
      ],
      "metadata": {
        "colab": {
          "base_uri": "https://localhost:8080/",
          "height": 35
        },
        "id": "G-8OZvwoacAA",
        "outputId": "ee88dec0-e7b3-439f-f6f8-dc4aee57a5a1"
      },
      "execution_count": null,
      "outputs": [
        {
          "output_type": "execute_result",
          "data": {
            "text/plain": [
              "'c'"
            ],
            "application/vnd.google.colaboratory.intrinsic+json": {
              "type": "string"
            }
          },
          "metadata": {},
          "execution_count": 15
        }
      ]
    },
    {
      "cell_type": "code",
      "source": [
        "#Find first and last index of 7\n",
        "arr=[5,7,7,8,8,10]\n",
        "def fl_index(arr,target,startIndex):\n",
        "  start=0\n",
        "  end=len(arr)-1\n",
        "  while start<=end:\n",
        "    mid=start+(end-start)//2        #as start+end may be larger the limit of compiler\n",
        "    if arr[mid]>target:\n",
        "      end=mid-1\n",
        "    elif arr[mid]<target:\n",
        "      start=mid+1\n",
        "    else: \n",
        "      ans=mid\n",
        "      if startIndex:\n",
        "        end=mid-1\n",
        "      else:\n",
        "        start=mid+1\n",
        "  return ans\n",
        "print(fl_index(arr,8,True),fl_index(arr,8,False))\n"
      ],
      "metadata": {
        "id": "MoCpbgr_acCh",
        "colab": {
          "base_uri": "https://localhost:8080/"
        },
        "outputId": "210e87af-8c5f-4d72-a500-25f37b3c4af7"
      },
      "execution_count": null,
      "outputs": [
        {
          "output_type": "stream",
          "name": "stdout",
          "text": [
            "3 4\n"
          ]
        }
      ]
    },
    {
      "cell_type": "code",
      "source": [
        "#Find in infine length array\n",
        "arr=[2,3,4,5,6,7,8,9,33,23,40]\n",
        "def binary(arr,n):\n",
        "  start=0\n",
        "  end=len(arr)-1\n",
        "  while start<=end:\n",
        "    mid=start+(end-start)//2        \n",
        "    if arr[mid]>n:\n",
        "      end=mid-1\n",
        "    elif arr[mid]<n:\n",
        "      start=mid+1\n",
        "    elif arr[mid]==n:\n",
        "      return mid\n",
        "  return -1\n",
        "def find(arr,n):\n",
        "  start=0\n",
        "  end=1\n",
        "   \n",
        "  while n>=arr[end]:\n",
        "    newStart=end+1\n",
        "    end+=(end-start+1)*2    #Size of box in which number to be searched is doubled\n",
        "    start=newStart\n",
        "  return newStart+binary(arr[newStart:end+1],n)\n",
        "find(arr,6)"
      ],
      "metadata": {
        "id": "lujjhFidacFt",
        "colab": {
          "base_uri": "https://localhost:8080/"
        },
        "outputId": "863b6738-80ab-4da6-90c2-6f532e382140"
      },
      "execution_count": null,
      "outputs": [
        {
          "output_type": "execute_result",
          "data": {
            "text/plain": [
              "4"
            ]
          },
          "metadata": {},
          "execution_count": 34
        }
      ]
    },
    {
      "cell_type": "code",
      "source": [
        "#Peak index of montain\n",
        "p=[1,2,3,4,5,7,8,6,3,2]\n",
        "def find(p):\n",
        "  start=0\n",
        "  end=len(p)\n",
        "  while start<end:              #Important ie when start== end both will point to largest peak \n",
        "    mid=start+(end-start)//2\n",
        "    if p[mid]>p[mid+1]:         #This may be the answer but look at left\n",
        "      end=mid\n",
        "    else:\n",
        "      start=mid+1         #Look at right\n",
        "  return p[start] #start or end because all are equal\n",
        "a=[3,4,5,6,7,0,1,2]\n",
        "find(p)  "
      ],
      "metadata": {
        "id": "suLAfv2dacHy",
        "colab": {
          "base_uri": "https://localhost:8080/"
        },
        "outputId": "ae94926f-ac3e-40b0-9934-971ff065bddd"
      },
      "execution_count": null,
      "outputs": [
        {
          "output_type": "execute_result",
          "data": {
            "text/plain": [
              "8"
            ]
          },
          "metadata": {},
          "execution_count": 25
        }
      ]
    },
    {
      "cell_type": "code",
      "source": [
        "#Return minimum index that is index of 3 is 2 and 5 so answer should be 3 \n",
        "#One more aproach can be that find the peak index and do binary search on to the peak index\n",
        "arr=[1,2,3,4,5,3,1]\n",
        "def find(arr,n):\n",
        "  start=0\n",
        "  end=len(arr)-1\n",
        "  while start<=end:              #Important ie when start== end both will point to largest peak \n",
        "    mid=start+(end-start)//2\n",
        "    if arr[mid]>arr[mid+1]:\n",
        "      end=mid\n",
        "    else:\n",
        "      if arr[mid]==n:\n",
        "        return mid\n",
        "      elif arr[mid]<n:\n",
        "        start=mid+1\n",
        "      else:\n",
        "        end=mid-1\n",
        "print(find(arr,3))"
      ],
      "metadata": {
        "id": "yaaC7R0SacK_",
        "colab": {
          "base_uri": "https://localhost:8080/"
        },
        "outputId": "12c2a421-3cd6-47d7-fe65-8e132de16128"
      },
      "execution_count": null,
      "outputs": [
        {
          "output_type": "stream",
          "name": "stdout",
          "text": [
            "2\n"
          ]
        }
      ]
    },
    {
      "cell_type": "code",
      "source": [
        "#Search in rotated array\n",
        "#Find the pivot and search for 2 binary array 3,5,6,(7)Pivot,0,1,2\n",
        "def find_pivot(arr):\n",
        "  start=0\n",
        "  end=len(arr)-1\n",
        "  while(start<=end):\n",
        "    mid=start+(end-start)//2\n",
        "    if mid<end and arr[mid]>arr[mid+1]:\n",
        "      return mid\n",
        "    if mid>start and arr[mid]<arr[mid-1]:\n",
        "      return mid-1\n",
        "    if arr[mid]>=start:\n",
        "      start=mid+1\n",
        "    else:\n",
        "      end=mid-1\n",
        "    #for duplicate \n",
        "    if arr[mid]==arr[start]==arr[end]:\n",
        "      #skip duplicate\n",
        "      #check if start is pivot\n",
        "      if arr[start]>arr[start+1]:\n",
        "        return start\n",
        "      start+=1\n",
        "      if arr[end-1]>arr[end]:\n",
        "        return end-1\n",
        "      end-=1\n",
        "  return -1\n",
        "arr=[3,4,5,6,7,0,1,2]\n",
        "\n",
        "def binary(arr,n):\n",
        "  start=0\n",
        "  end=len(arr)-1\n",
        "  while start<=end:\n",
        "    mid=start+(end-start)//2        #as start+end may be larger the limit of compiler\n",
        "    if arr[mid]>n:\n",
        "      end=mid-1\n",
        "    elif arr[mid]<n:\n",
        "      start=mid+1\n",
        "    elif arr[mid]==n:\n",
        "      return mid\n",
        "  return -1\n",
        "binary(arr[:find_pivot(arr)+1],7)  # for element before pivot ie target > start element\n",
        "binary(arr[find_pivot(arr):],1)   #for element after pivot  ie target < start element"
      ],
      "metadata": {
        "id": "Pbttr4eWacNb",
        "colab": {
          "base_uri": "https://localhost:8080/"
        },
        "outputId": "65240302-8957-4311-debc-3cd54cf025cd"
      },
      "execution_count": null,
      "outputs": [
        {
          "output_type": "execute_result",
          "data": {
            "text/plain": [
              "2"
            ]
          },
          "metadata": {},
          "execution_count": 31
        }
      ]
    },
    {
      "cell_type": "code",
      "source": [
        "#Split Array largest sum ,split into m subarray and return minimum of all max sum of subarray\n",
        "# 7,2,5,10,8    7+2+5=12   10+8=18\n",
        "def splitArray(arr,m):\n",
        "  start=0\n",
        "  end=0\n",
        "  for i in arr:\n",
        "    start=max(start,i)\n",
        "    end+=i\n",
        "  #Binary search\n",
        "  while start<end:\n",
        "    #try for middle for potential answer\n",
        "    mid=(start+end)//2\n",
        "    #calculate how many peieces you can divide this in with this max sum\n",
        "    sum=0\n",
        "    pieces=1\n",
        "    for i in arr:\n",
        "      if sum+i>mid:   #You cant add in this sub array make new one\n",
        "        pieces+=1\n",
        "        sum=i\n",
        "      else:\n",
        "        sum+=i\n",
        "    if pieces>m:\n",
        "      start=mid+1\n",
        "    else:\n",
        "      end=mid\n",
        "  return end #As start is equal to end\n",
        "arr=[7,2,5,10,8]\n",
        "splitArray(arr,2)"
      ],
      "metadata": {
        "id": "35DFjesGacQf",
        "colab": {
          "base_uri": "https://localhost:8080/"
        },
        "outputId": "9596e55a-aeee-4182-fec6-d8f7000fe950"
      },
      "execution_count": null,
      "outputs": [
        {
          "output_type": "execute_result",
          "data": {
            "text/plain": [
              "18"
            ]
          },
          "metadata": {},
          "execution_count": 3
        }
      ]
    },
    {
      "cell_type": "code",
      "source": [
        "#Search in 2d array sorted row wise and column wise\n",
        "def search(arr,target):\n",
        "  r=0\n",
        "  #a=[-1,-1]\n",
        "  c=len(arr)-1\n",
        "  while r<len(arr) and c>=0:\n",
        "    if arr[r][c]==target:\n",
        "      return [r,c]\n",
        "    if arr[r][c]>target:\n",
        "      c-=1\n",
        "    else:\n",
        "      r+=1\n",
        "  return [-1,-1]\n",
        "arr=[[10,20,30,40],\n",
        "     [15,25,35,45],\n",
        "     [28,29,37,49],\n",
        "     [33,34,38,50]]\n",
        "search(arr,15)"
      ],
      "metadata": {
        "id": "qJ9zmJM6acSj",
        "colab": {
          "base_uri": "https://localhost:8080/"
        },
        "outputId": "33f87c9a-c52b-43d0-a64b-6e6dc67482ce"
      },
      "execution_count": null,
      "outputs": [
        {
          "output_type": "execute_result",
          "data": {
            "text/plain": [
              "[1, 0]"
            ]
          },
          "metadata": {},
          "execution_count": 6
        }
      ]
    },
    {
      "cell_type": "code",
      "source": [
        "# seach in sorted matrix   (convert in 1d in do binary search )\n",
        "matrix=[[1,2,3,4],\n",
        "     [5,6,7,8],\n",
        "     [9,10,11,12],\n",
        "     [13,14,15,16]]\n",
        "def binarySearch(arr,row,cStart,cEnd,target):\n",
        "  while cStart<=cEnd:\n",
        "    mid=cStart+(cEnd-cStart)//2\n",
        "    if matrix[row][mid]==target:\n",
        "      return [row,mid]\n",
        "    if matrix[row][mid]<target:\n",
        "      cStart=mid+1\n",
        "    else:\n",
        "      cEnd=mid-1\n",
        "  return [-1,-1]\n",
        "\n",
        "def search(matrix,target):\n",
        "  r=len(matrix)\n",
        "  c=len(matrix[0])\n",
        "  if r==1:\n",
        "    return binarySearch(matrix,0,0,c-1,target)\n",
        "  #Run the loop till 2 rows remaining\n",
        "  rStart=0\n",
        "  rEnd=r-1\n",
        "  cMid=c//2\n",
        "  while rStart<rEnd-1:   #have more than 2 rows\n",
        "    mid=rStart+(rEnd-rStart)//2\n",
        "    if matrix[mid][cMid]==target:\n",
        "      return [mid,cMid]\n",
        "    if matrix[r][c]>target:     #ignore rows after it\n",
        "      rEnd=mid\n",
        "    else:                   #ignore rows before it\n",
        "      rStart=mid\n",
        "  #now we have 2 rows\n",
        "  #check weather target is in middle columns of 2 rows\n",
        "  if matrix[rStart][cMid]==target:\n",
        "    return [rStart,cMid]\n",
        "  if matrix[rStart+1][cMid]==target:\n",
        "    return [rStart+1,cMid]\n",
        "  #search in 1st half,2nd half,3,4th half\n",
        "  if target<= matrix[rStart][cMid-1]:\n",
        "    return binarySearch(matrix,rStart,0,cMid-1,target)\n",
        "  if target>= matrix[rStart][cMid+1] and target<= matrix[rStart][c-1]:\n",
        "    return binarySearch(matrix,rStart,cMid+1,c-1,target)\n",
        "  if target<= matrix[rStart+1][cMid-1]:\n",
        "    return binarySearch(matrix,rStart+1,0,cMid-1,target)\n",
        "  if target<= matrix[rStart+1][cMid+1]:\n",
        "    return binarySearch(matrix,rStart+1,cMid+1,c-1,target)\n",
        "search(matrix,7)"
      ],
      "metadata": {
        "id": "IJ5b9Mi8acWL",
        "colab": {
          "base_uri": "https://localhost:8080/"
        },
        "outputId": "ff4fb9a9-85f1-47ad-8111-7050f7ed3bf2"
      },
      "execution_count": null,
      "outputs": [
        {
          "output_type": "execute_result",
          "data": {
            "text/plain": [
              "[1, 2]"
            ]
          },
          "metadata": {},
          "execution_count": 1
        }
      ]
    },
    {
      "cell_type": "code",
      "source": [
        ""
      ],
      "metadata": {
        "id": "FPBfI4uyacbO"
      },
      "execution_count": null,
      "outputs": []
    },
    {
      "cell_type": "markdown",
      "source": [
        "###Sorting"
      ],
      "metadata": {
        "id": "V4MfKD70JknI"
      }
    },
    {
      "cell_type": "code",
      "source": [
        "#Bubble sort \n",
        "#compexity for best case is O(n)(sorted in inc order) and for worst case O(n2) ie for sorted in decc order\n",
        "def sort(arr):\n",
        "  for i in range(len(arr)-1):\n",
        "    flag=0\n",
        "    for j in range(len(arr)-i-1):\n",
        "      if arr[j]>arr[j+1]:\n",
        "        flag=1\n",
        "        arr[j],arr[j+1]=arr[j+1],arr[j]\n",
        "    if flag==0:\n",
        "      break\n",
        "    print(arr)\n",
        "sort([4,23,7,4,25,325,2,999])\n",
        "sort([9,8,7,6,5,4,3,2,1])"
      ],
      "metadata": {
        "id": "4gccfjmHacka",
        "colab": {
          "base_uri": "https://localhost:8080/"
        },
        "outputId": "0b48f09c-e0ac-44d4-ac7a-258505e36f6b"
      },
      "execution_count": null,
      "outputs": [
        {
          "output_type": "stream",
          "name": "stdout",
          "text": [
            "[4, 7, 4, 23, 25, 2, 325, 999]\n",
            "[4, 4, 7, 23, 2, 25, 325, 999]\n",
            "[4, 4, 7, 2, 23, 25, 325, 999]\n",
            "[4, 4, 2, 7, 23, 25, 325, 999]\n",
            "[4, 2, 4, 7, 23, 25, 325, 999]\n",
            "[2, 4, 4, 7, 23, 25, 325, 999]\n",
            "[2, 4, 4, 7, 23, 25, 325, 999]\n",
            "[8, 7, 6, 5, 4, 3, 2, 1, 9]\n",
            "[7, 6, 5, 4, 3, 2, 1, 8, 9]\n",
            "[6, 5, 4, 3, 2, 1, 7, 8, 9]\n",
            "[5, 4, 3, 2, 1, 6, 7, 8, 9]\n",
            "[4, 3, 2, 1, 5, 6, 7, 8, 9]\n",
            "[3, 2, 1, 4, 5, 6, 7, 8, 9]\n",
            "[2, 1, 3, 4, 5, 6, 7, 8, 9]\n",
            "[1, 2, 3, 4, 5, 6, 7, 8, 9]\n"
          ]
        }
      ]
    },
    {
      "cell_type": "code",
      "source": [
        "#Bubble sort using recursion\n",
        "def bubble(arr,r,c):\n",
        "  if r==0:\n",
        "    print(arr)\n",
        "    return \n",
        "  if c<r:\n",
        "    if arr[c]>arr[c+1]:\n",
        "      arr[c],arr[c+1]=arr[c+1],arr[c]\n",
        "    bubble(arr,r,c+1)\n",
        "  else:\n",
        "    bubble(arr,r-1,0)\n",
        "bubble([4,23,7,4,25,325,2,999],7,0)"
      ],
      "metadata": {
        "colab": {
          "base_uri": "https://localhost:8080/"
        },
        "id": "6X8BEFSbC_ue",
        "outputId": "738131a4-1c91-4f9a-a2e1-db5229f9ab95"
      },
      "execution_count": null,
      "outputs": [
        {
          "output_type": "stream",
          "name": "stdout",
          "text": [
            "[2, 4, 4, 7, 23, 25, 325, 999]\n"
          ]
        }
      ]
    },
    {
      "cell_type": "code",
      "source": [
        "#Selection sort\n",
        "def sort(arr):\n",
        "  for i in range(len(arr)):\n",
        "    maxIndex=0\n",
        "    for j in range(len(arr)-i):\n",
        "      if arr[maxIndex]<=arr[j]:\n",
        "        maxIndex=j\n",
        "    arr[j],arr[maxIndex]=arr[maxIndex],arr[j]\n",
        "    print(arr)\n",
        "sort([4,23,7,4,25,325,2,999])"
      ],
      "metadata": {
        "id": "HUAbhutBacre",
        "colab": {
          "base_uri": "https://localhost:8080/"
        },
        "outputId": "163fa99e-29dc-4e59-a7a5-97e253bd9863"
      },
      "execution_count": null,
      "outputs": [
        {
          "output_type": "stream",
          "name": "stdout",
          "text": [
            "[4, 23, 7, 4, 25, 325, 2, 999]\n",
            "[4, 23, 7, 4, 25, 2, 325, 999]\n",
            "[4, 23, 7, 4, 2, 25, 325, 999]\n",
            "[4, 2, 7, 4, 23, 25, 325, 999]\n",
            "[4, 2, 4, 7, 23, 25, 325, 999]\n",
            "[4, 2, 4, 7, 23, 25, 325, 999]\n",
            "[2, 4, 4, 7, 23, 25, 325, 999]\n",
            "[2, 4, 4, 7, 23, 25, 325, 999]\n"
          ]
        }
      ]
    },
    {
      "cell_type": "code",
      "source": [
        "#Selection sort using recursion\n",
        "def selection(arr,r,c,max):\n",
        "  if r==0:\n",
        "    print(arr)\n",
        "    return \n",
        "  if c<r:\n",
        "    if arr[c]>arr[max]:\n",
        "      selection(arr,r,c+1,c)\n",
        "    else:\n",
        "      selection(arr,r,c+1,max)\n",
        "    \n",
        "  else:\n",
        "    arr[max],arr[c-1]=arr[c-1],arr[max]\n",
        "    selection(arr,r-1,0,0)\n",
        "selection([4,23,7,4,25,325,2,999],8,0,0)"
      ],
      "metadata": {
        "colab": {
          "base_uri": "https://localhost:8080/"
        },
        "id": "QNO_47I_qGA0",
        "outputId": "bd852f69-a6bb-4c2e-fa10-aa9cab4198b3"
      },
      "execution_count": 6,
      "outputs": [
        {
          "output_type": "stream",
          "name": "stdout",
          "text": [
            "[2, 4, 4, 7, 23, 25, 325, 999]\n"
          ]
        }
      ]
    },
    {
      "cell_type": "code",
      "source": [
        "#Insertion sort is sorting in parts that is 1-2 then 1-3 then 1-4 and so on \n",
        "def sort(arr):\n",
        "  for i in range(1,len(arr)):\n",
        "    j=i-1\n",
        "    key=arr[i]\n",
        "    while j>=0 and key<arr[j]:\n",
        "      arr[j+1]=arr[j]\n",
        "      j-=1\n",
        "    arr[j+1]=key\n",
        "    print(arr)\n",
        "sort([23,7,4,25,32,2,9])"
      ],
      "metadata": {
        "id": "eQdPJaRXacvX",
        "colab": {
          "base_uri": "https://localhost:8080/"
        },
        "outputId": "6877e14a-403c-446b-9fde-03afb0db0cd5"
      },
      "execution_count": null,
      "outputs": [
        {
          "output_type": "stream",
          "name": "stdout",
          "text": [
            "[7, 23, 4, 25, 32, 2, 9]\n",
            "[4, 7, 23, 25, 32, 2, 9]\n",
            "[4, 7, 23, 25, 32, 2, 9]\n",
            "[4, 7, 23, 25, 32, 2, 9]\n",
            "[2, 4, 7, 23, 25, 32, 9]\n",
            "[2, 4, 7, 9, 23, 25, 32]\n"
          ]
        }
      ]
    },
    {
      "cell_type": "code",
      "source": [
        "#Cyclic sort use when question says numbers are from 1 to n or 0 to n\n",
        "arr=[3,5,2,1,4]\n",
        "\n",
        "def sort(arr):\n",
        "  i=0\n",
        "  while i<len(arr): \n",
        "    if arr[i]!=arr[arr[i]-1]:\n",
        "      temp=arr[arr[i]-1]\n",
        "      arr[arr[i]-1]=arr[i]\n",
        "      arr[i]=temp\n",
        "    else:\n",
        "      i+=1\n",
        "    print(arr)\n",
        "    \n",
        "sort(arr)"
      ],
      "metadata": {
        "id": "bcG0Kvljacxo",
        "colab": {
          "base_uri": "https://localhost:8080/"
        },
        "outputId": "be199be9-d9ad-4274-b1dd-b2080790560e"
      },
      "execution_count": null,
      "outputs": [
        {
          "output_type": "stream",
          "name": "stdout",
          "text": [
            "[2, 5, 3, 1, 4]\n",
            "[5, 2, 3, 1, 4]\n",
            "[4, 2, 3, 1, 5]\n",
            "[1, 2, 3, 4, 5]\n",
            "[1, 2, 3, 4, 5]\n",
            "[1, 2, 3, 4, 5]\n",
            "[1, 2, 3, 4, 5]\n",
            "[1, 2, 3, 4, 5]\n",
            "[1, 2, 3, 4, 5]\n"
          ]
        }
      ]
    },
    {
      "cell_type": "code",
      "source": [
        "#Check for duplicate\n",
        "arr=[3,5,2,1,2,4]\n",
        "\n",
        "def sort(arr):\n",
        "  i=0\n",
        "  while i<len(arr): \n",
        "    if arr[i]!=i+1:  #checks if index+1 equals element\n",
        "      if arr[i]!=arr[arr[i]-1]:   #checks if element equals arr[element-1]\n",
        "        temp=arr[arr[i]-1]\n",
        "        arr[arr[i]-1]=arr[i]\n",
        "        arr[i]=temp\n",
        "      else:\n",
        "        print(arr[i])\n",
        "        break\n",
        "    else:\n",
        "      i+=1\n",
        "    print(arr)\n",
        "    \n",
        "sort(arr)"
      ],
      "metadata": {
        "id": "dr_FASqHac1Q",
        "colab": {
          "base_uri": "https://localhost:8080/"
        },
        "outputId": "8307ce6a-58b1-481c-d055-0e94a5496c1b"
      },
      "execution_count": null,
      "outputs": [
        {
          "output_type": "stream",
          "name": "stdout",
          "text": [
            "[2, 5, 3, 1, 2, 4]\n",
            "[5, 2, 3, 1, 2, 4]\n",
            "[2, 2, 3, 1, 5, 4]\n",
            "2\n"
          ]
        }
      ]
    },
    {
      "cell_type": "code",
      "source": [
        "#Merge sort\n",
        "def merge()"
      ],
      "metadata": {
        "id": "R3y9pQzKPzVx"
      },
      "execution_count": null,
      "outputs": []
    },
    {
      "cell_type": "code",
      "source": [
        ""
      ],
      "metadata": {
        "id": "oAQ4VbljPzS1"
      },
      "execution_count": null,
      "outputs": []
    },
    {
      "cell_type": "code",
      "source": [
        ""
      ],
      "metadata": {
        "id": "DZlWU4DcPzPs"
      },
      "execution_count": null,
      "outputs": []
    },
    {
      "cell_type": "code",
      "source": [
        ""
      ],
      "metadata": {
        "id": "CzoOms2PPzMn"
      },
      "execution_count": null,
      "outputs": []
    },
    {
      "cell_type": "code",
      "source": [
        ""
      ],
      "metadata": {
        "id": "GGOkAffKPzJe"
      },
      "execution_count": null,
      "outputs": []
    },
    {
      "cell_type": "code",
      "source": [
        ""
      ],
      "metadata": {
        "id": "mlw6Bt3PPzAl"
      },
      "execution_count": null,
      "outputs": []
    },
    {
      "cell_type": "code",
      "source": [
        ""
      ],
      "metadata": {
        "id": "XDm0Ph48Pxd5"
      },
      "execution_count": null,
      "outputs": []
    },
    {
      "cell_type": "markdown",
      "source": [
        "###Recursion"
      ],
      "metadata": {
        "id": "1Zcpzb_T1dFV"
      }
    },
    {
      "cell_type": "code",
      "execution_count": null,
      "metadata": {
        "colab": {
          "base_uri": "https://localhost:8080/"
        },
        "id": "ehqXN6YP_tOC",
        "outputId": "11f79dcc-0801-4fc2-e562-f22b1e5c8d23"
      },
      "outputs": [
        {
          "data": {
            "text/plain": [
              "24"
            ]
          },
          "execution_count": 6,
          "metadata": {},
          "output_type": "execute_result"
        }
      ],
      "source": [
        "def fact_tail(n,accumulator=1):\n",
        "  if n==1:\n",
        "    return accumulator\n",
        "  return fact_tail(n-1,n*accumulator) \n",
        "fact_tail(4)"
      ]
    },
    {
      "cell_type": "code",
      "execution_count": null,
      "metadata": {
        "colab": {
          "base_uri": "https://localhost:8080/"
        },
        "id": "_iyLDEdfAs5c",
        "outputId": "b2b5e6d7-9663-495d-f567-f3e65bc4a4c6"
      },
      "outputs": [
        {
          "data": {
            "text/plain": [
              "5"
            ]
          },
          "execution_count": 12,
          "metadata": {},
          "output_type": "execute_result"
        }
      ],
      "source": [
        "def fibonacci_tail(n,a=0,b=1):\n",
        "    \n",
        "    if n==0: return a\n",
        "    if n==1: return b\n",
        " \n",
        "    return fibonacci_tail(n-1,b,a+b)\n",
        "fibonacci_tail(5)"
      ]
    },
    {
      "cell_type": "code",
      "execution_count": null,
      "metadata": {
        "colab": {
          "background_save": true,
          "base_uri": "https://localhost:8080/"
        },
        "id": "VdhgAC8HAtN2",
        "outputId": "ac3ad569-2612-483f-f9cc-73e2499a8f3c"
      },
      "outputs": [
        {
          "name": "stdout",
          "output_type": "stream",
          "text": [
            "Disc 0 from A to B\n",
            "Disc 1 from A to C\n",
            "Disc 0 from B to C\n",
            "Disc 2 from A to B\n",
            "Disc 0 from C to A\n",
            "Disc 1 from C to B\n",
            "Disc 0 from A to B\n",
            "Disc 3 from A to C\n",
            "Disc 0 from B to C\n",
            "Disc 1 from B to A\n",
            "Disc 0 from C to A\n",
            "Disc 2 from B to C\n",
            "Disc 0 from A to B\n",
            "Disc 1 from A to C\n",
            "Disc 0 from B to C\n"
          ]
        }
      ],
      "source": [
        "def hanoi(disc,source,middle,destination):\n",
        "  if disc==0:\n",
        "    print(\"Disc %s from %s to %s\" %(disc,source,destination))\n",
        "    return\n",
        "  hanoi(disc-1,source,destination,middle)\n",
        "  print(\"Disc %s from %s to %s\" %(disc,source,destination))\n",
        "  hanoi(disc-1,middle,source,destination)\n",
        "\n",
        "hanoi(3,'A','B','C')"
      ]
    },
    {
      "cell_type": "code",
      "source": [
        "s=\"12\"\n",
        "\n",
        "def letterpermutation(s):\n",
        "  arr=[\"abc\",\"def\"]\n",
        "  res=arr[]"
      ],
      "metadata": {
        "id": "gYkRNGE0PuwZ"
      },
      "execution_count": null,
      "outputs": []
    },
    {
      "cell_type": "code",
      "execution_count": null,
      "metadata": {
        "colab": {
          "base_uri": "https://localhost:8080/"
        },
        "id": "pmDOHWFXAtVg",
        "outputId": "77b70e99-9576-46ad-d9e3-c3f9c69b3600"
      },
      "outputs": [
        {
          "output_type": "execute_result",
          "data": {
            "text/plain": [
              "5"
            ]
          },
          "metadata": {},
          "execution_count": 5
        }
      ],
      "source": [
        "def gcd(x,y):\n",
        "  if x%y==0:\n",
        "    return y\n",
        "  if x<y:\n",
        "    return gcd(x,y-x)\n",
        "  else:\n",
        "    return gcd(y,x-y)\n",
        "\n",
        "gcd(45,10)"
      ]
    },
    {
      "cell_type": "markdown",
      "source": [
        "###Backtracking"
      ],
      "metadata": {
        "id": "E78W61PBz8XS"
      }
    },
    {
      "cell_type": "code",
      "execution_count": null,
      "metadata": {
        "id": "0m2HL_R4AtYP",
        "colab": {
          "base_uri": "https://localhost:8080/"
        },
        "outputId": "4398b528-db4d-4672-907e-3dceccfcc66b"
      },
      "outputs": [
        {
          "output_type": "stream",
          "name": "stdout",
          "text": [
            "6\n",
            " Down Down Right Right\n",
            " Down Right Down Right\n",
            " Down Right Right Down\n",
            " Down Right Diagonal\n",
            " Down Diagonal Right\n",
            " Right Down Down Right\n",
            " Right Down Right Down\n",
            " Right Down Diagonal\n",
            " Right Right Down Down\n",
            " Right Diagonal Down\n",
            " Diagonal Down Right\n",
            " Diagonal Right Down\n",
            " Diagonal Diagonal\n"
          ]
        }
      ],
      "source": [
        "#Maze problem\n",
        "def count(r,c): #No of Ways\n",
        "  if r==1 or c==1:\n",
        "    return 1\n",
        "  right=count(r,c-1)\n",
        "  down=count(r-1,c)\n",
        "  return right+down\n",
        "\n",
        "print(count(3,3))\n",
        "\n",
        "def path(r,c,p):\n",
        "  if r==1 and c==1:\n",
        "    print(p)\n",
        "    return\n",
        "  if r>1:\n",
        "    path(r-1,c,p+\" Down\")\n",
        "  if c>1:\n",
        "    path(r,c-1,p+\" Right\")\n",
        "  if r>1 and c>1:\n",
        "    path(r-1,c-1,p+\" Diagonal\") #for Diagonal\n",
        "\n",
        "path(3,3,\"\")"
      ]
    },
    {
      "cell_type": "code",
      "execution_count": null,
      "metadata": {
        "id": "DC18Mp5wAta_",
        "colab": {
          "base_uri": "https://localhost:8080/"
        },
        "outputId": "5f58a9b6-4e47-4c8b-9e79-a69eb13e821c"
      },
      "outputs": [
        {
          "output_type": "stream",
          "name": "stdout",
          "text": [
            " Down Down Right Right\n",
            " Right Right Down Down\n"
          ]
        }
      ],
      "source": [
        "#Maze with Obstracles(When land on new cell check for obstracle if found return from recursion)\n",
        "def path(r,c,maze,p):\n",
        "  if r==len(maze)-1 and c==len(maze[0])-1:\n",
        "    print(p)\n",
        "    return\n",
        "  if maze[r][c]==0:\n",
        "    return\n",
        "  if r<len(maze)-1:\n",
        "    path(r+1,c,maze,p+\" Down\")\n",
        "  if c<len(maze[0])-1:\n",
        "    path(r,c+1,maze,p+\" Right\")\n",
        "\n",
        "maze=[[1,1,1],[1,0,1],[1,1,1]]\n",
        "path(0,0,maze,\"\")"
      ]
    },
    {
      "cell_type": "code",
      "execution_count": null,
      "metadata": {
        "id": "ssODtz7eAteQ",
        "colab": {
          "base_uri": "https://localhost:8080/"
        },
        "outputId": "c4c5b2ca-8d32-4119-a542-0f00471f4095"
      },
      "outputs": [
        {
          "output_type": "stream",
          "name": "stdout",
          "text": [
            " Down Down Right Right\n",
            " Down Down Right UP Right Down\n",
            " Down Down Right UP UP Right Down Down\n",
            " Down Right Down Right\n",
            " Down Right Right Down\n",
            " Down Right UP Right Down Down\n",
            " Right Down Down Right\n",
            " Right Down Right Down\n",
            " Right Down Left Down Right Right\n",
            " Right Right Down Down\n",
            " Right Right Down Left Down Right\n",
            " Right Right Down Left Left Down Right Right\n"
          ]
        }
      ],
      "source": [
        "# Back tracking   Im this move in all direction\n",
        "#When the function is returned, maze is turned true ie change the previous changes like never happened and when we move forward then the maze is turned false\n",
        "def path(r,c,maze,p):\n",
        "  if r==len(maze)-1 and c==len(maze[0])-1:\n",
        "    print(p)\n",
        "    return\n",
        "  if maze[r][c]==0:        #visited\n",
        "    return\n",
        "  maze[r][c]=0\n",
        "  if r<len(maze)-1:\n",
        "    path(r+1,c,maze,p+\" Down\")\n",
        "  if c<len(maze[0])-1:\n",
        "    path(r,c+1,maze,p+\" Right\")\n",
        "  if r>0:\n",
        "    path(r-1,c,maze,p+\" UP\")\n",
        "  if c>0:\n",
        "    path(r,c-1,maze,p+\" Left\")\n",
        "  #Now the function is over maze value is resetted and changes are reversed like they never happened\n",
        "  maze[r][c]=1\n",
        "\n",
        "maze=[[1,1,1],[1,1,1],[1,1,1]]\n",
        "path(0,0,maze,\"\")"
      ]
    },
    {
      "cell_type": "code",
      "source": [
        "#Print matrix and path\n",
        "def path(r,c,maze,p,parr,step):\n",
        "  \n",
        "  if r==len(maze)-1 and c==len(maze[0])-1:\n",
        "    parr[r][c]=step\n",
        "    print(parr)\n",
        "    print(p)\n",
        "    return\n",
        "  if maze[r][c]==0:\n",
        "    return\n",
        "  maze[r][c]=0\n",
        "  parr[r][c]=step\n",
        "  if r<len(maze)-1:\n",
        "    path(r+1,c,maze,p+\" Down\",parr,step+1)\n",
        "  if c<len(maze[0])-1:\n",
        "    path(r,c+1,maze,p+\" Right\",parr,step+1)\n",
        "  if r>0:\n",
        "    path(r-1,c,maze,p+\" UP\",parr,step+1)\n",
        "  if c>0:\n",
        "    path(r,c-1,maze,p+\" Left\",parr,step+1)\n",
        "  #Now the function is over maze value is resetted and changes are reversed like they never happened\n",
        "  maze[r][c]=1\n",
        "  parr[r][c]=0\n",
        "maze=[[1,1,1],[1,1,1],[1,1,1]]\n",
        "path(0,0,maze,\"\",[[0,0,0],[0,0,0],[0,0,0]],1)"
      ],
      "metadata": {
        "id": "AhR_RV7jFr-9",
        "colab": {
          "base_uri": "https://localhost:8080/"
        },
        "outputId": "6cbb9805-7203-4c16-bd1f-bc77a28da926"
      },
      "execution_count": null,
      "outputs": [
        {
          "output_type": "stream",
          "name": "stdout",
          "text": [
            "[[1, 0, 0], [2, 0, 0], [3, 4, 5]]\n",
            " Down Down Right Right\n",
            "[[1, 0, 0], [2, 5, 6], [3, 4, 7]]\n",
            " Down Down Right UP Right Down\n",
            "[[1, 6, 7], [2, 5, 8], [3, 4, 9]]\n",
            " Down Down Right UP UP Right Down Down\n",
            "[[1, 0, 0], [2, 3, 0], [0, 4, 5]]\n",
            " Down Right Down Right\n",
            "[[1, 0, 0], [2, 3, 4], [0, 0, 5]]\n",
            " Down Right Right Down\n",
            "[[1, 4, 5], [2, 3, 6], [0, 0, 7]]\n",
            " Down Right UP Right Down Down\n",
            "[[1, 2, 0], [0, 3, 0], [0, 4, 5]]\n",
            " Right Down Down Right\n",
            "[[1, 2, 0], [0, 3, 4], [0, 0, 5]]\n",
            " Right Down Right Down\n",
            "[[1, 2, 0], [4, 3, 0], [5, 6, 7]]\n",
            " Right Down Left Down Right Right\n",
            "[[1, 2, 3], [0, 0, 4], [0, 0, 5]]\n",
            " Right Right Down Down\n",
            "[[1, 2, 3], [0, 5, 4], [0, 6, 7]]\n",
            " Right Right Down Left Down Right\n",
            "[[1, 2, 3], [6, 5, 4], [7, 8, 9]]\n",
            " Right Right Down Left Left Down Right Right\n"
          ]
        }
      ]
    },
    {
      "cell_type": "code",
      "source": [
        "#N Queen(Below rows are not checked as queen is in upper rows)\n",
        "\n",
        "def isSafe(board,row,col):\n",
        "  \n",
        "  #Check vertical row\n",
        "  for i in range(row):\n",
        "    if board[i][col]==1: # that is queen is over there\n",
        "      return 0 \n",
        "  \n",
        "  #for diagonal left\n",
        "  maxLeft=min(row,col)\n",
        "  for i in range(1,maxLeft+1):\n",
        "    if board[row-i][col-i]==1:\n",
        "      return 0\n",
        "\n",
        "  #for diagonal right\n",
        "  maxright=min(row,len(board)-col-1)\n",
        "  for i in range(1,maxright+1):\n",
        "    if board[row-i][col+i]==1:\n",
        "      return 0\n",
        "  \n",
        "  return 1\n",
        "\n",
        "def queens(board,row):\n",
        "  if row==len(board):\n",
        "    print(board)\n",
        "    return 1\n",
        "  #Placing the qween and checking for every row and columns\n",
        "  count=0\n",
        "  for col in range(len(board)):\n",
        "    if isSafe(board,row,col):\n",
        "      board[row][col]=1\n",
        "      count+=queens(board,row+1)\n",
        "      board[row][col]=0\n",
        "  \n",
        "  return count\n",
        "\n",
        "board=[[0,0,0,0],[0,0,0,0],[0,0,0,0],[0,0,0,0]]\n",
        "queens(board,0)\n",
        "#\n"
      ],
      "metadata": {
        "id": "5D4tP9Q9KE6y",
        "colab": {
          "base_uri": "https://localhost:8080/"
        },
        "outputId": "30ceb893-c217-4fa8-e017-e75e6687a7e6"
      },
      "execution_count": null,
      "outputs": [
        {
          "output_type": "stream",
          "name": "stdout",
          "text": [
            "[[0, 1, 0, 0], [0, 0, 0, 1], [1, 0, 0, 0], [0, 0, 1, 0]]\n",
            "[[0, 0, 1, 0], [1, 0, 0, 0], [0, 0, 0, 1], [0, 1, 0, 0]]\n"
          ]
        },
        {
          "output_type": "execute_result",
          "data": {
            "text/plain": [
              "2"
            ]
          },
          "metadata": {},
          "execution_count": 5
        }
      ]
    },
    {
      "cell_type": "code",
      "source": [
        "#N knights\n",
        "def isValid(row,col):\n",
        "  if row>=0 and row<len(board) and col>=0 and col<len(board):\n",
        "    return 1\n",
        "  return 0\n",
        "def isSafe(board,row,col):\n",
        "  if isValid(row-2,col-1):\n",
        "    if board[row-2][col-1]==1:\n",
        "      return 0\n",
        "  if isValid(row-2,col+1):\n",
        "    if board[row-2][col+1]==1:\n",
        "      return 0\n",
        "  if isValid(row-1,col+2):\n",
        "    if board[row-1][col+2]==1:\n",
        "      return 0\n",
        "  if isValid(row-1,col-2):\n",
        "    if board[row-1][col-2]==1:\n",
        "      return 0\n",
        "  return 1\n",
        "def knight(board,row,col,knights):\n",
        "  if knights==0:\n",
        "    print(board)\n",
        "    return\n",
        "  if row==len(board)-1 and col==len(board):\n",
        "    return #Col is out of bond when no place is found for knight\n",
        "  if col==len(board):\n",
        "    knight(board,row+1,0,knights)\n",
        "    return\n",
        "  if isSafe(board,row,col):\n",
        "    board[row][col]=1\n",
        "    knight(board,row,col+1,knights-1)\n",
        "    board[row][col]=0\n",
        "  \n",
        "  knight(board,row,col+1,knights)\n",
        "\n",
        "board=[[0,0,0,0],[0,0,0,0],[0,0,0,0],[0,0,0,0]]\n",
        "knight(board,0,0,7)"
      ],
      "metadata": {
        "id": "LgRTJQssutjF"
      },
      "execution_count": null,
      "outputs": []
    },
    {
      "cell_type": "code",
      "source": [
        "# SudokoSolver\n",
        "def isSafe(board,row,col,num):\n",
        "  #Check row and col\n",
        "  for i in range(len(board)):\n",
        "    if board[i][col]==num or board[row][i]==num:\n",
        "      return 0\n",
        "  \n",
        "  #Check each square\n",
        "  sqrt=int(len(board)**(1/2))\n",
        "  rowstart=row-row%sqrt\n",
        "  colstart=col-col%sqrt\n",
        "  for r in range(rowstart,rowstart+sqrt):\n",
        "    for c in range(colstart,colstart+sqrt):\n",
        "      if board[r][c]==num:\n",
        "        return 0\n",
        "  return 1\n",
        "\n",
        "def solve(board):\n",
        "  n=len(board)\n",
        "  row,col=-1,-1\n",
        "  emptyLeft=1\n",
        "  for i in range(n):\n",
        "    for j in range(n):\n",
        "      if board[i][j]==0:\n",
        "        row=i\n",
        "        col=j\n",
        "        emptyLeft=0\n",
        "        break              \n",
        "      #if found some empty element in row then break\n",
        "      if emptyLeft==0:\n",
        "        break\n",
        "  if emptyLeft==1:\n",
        "    return True    #Sudoko solved\n",
        "  #BackTrack\n",
        "  for number in range(1,10):\n",
        "    if isSafe(board,row,col,number):\n",
        "      board[row][col]=number\n",
        "      if solve(board):\n",
        "        return True             #Found the answer\n",
        "      else:\n",
        "        board[row][col]=0\n",
        "  return False  \n",
        "\n",
        "board=[[3,0,6,5,0,8,4,0,0],[5,2,0,0,0,0,0,0,0],[0,8,7,0,0,0,0,3,1],[0,0,3,0,1,0,0,8,0],[9,0,0,8,6,3,0,0,5],[0,5,0,0,9,0,6,0,0],[1,3,0,0,0,0,2,5,0],[0,0,0,0,0,0,0,7,4],[0,0,5,2,0,6,3,0,0]]\n",
        "solve(board)\n",
        "print(board)"
      ],
      "metadata": {
        "id": "H2pgX03Fld7g",
        "colab": {
          "base_uri": "https://localhost:8080/"
        },
        "outputId": "650e7b01-fa68-4d1a-89c7-47a33bb3fafb"
      },
      "execution_count": null,
      "outputs": [
        {
          "output_type": "stream",
          "name": "stdout",
          "text": [
            "[[3, 1, 6, 5, 7, 8, 4, 9, 2], [5, 2, 9, 1, 3, 4, 7, 6, 8], [4, 8, 7, 6, 2, 9, 5, 3, 1], [2, 6, 3, 4, 1, 5, 9, 8, 7], [9, 7, 4, 8, 6, 3, 1, 2, 5], [8, 5, 1, 7, 9, 2, 6, 4, 3], [1, 3, 8, 9, 4, 7, 2, 5, 6], [6, 9, 2, 3, 5, 1, 8, 7, 4], [7, 4, 5, 2, 8, 6, 3, 1, 9]]\n"
          ]
        }
      ]
    },
    {
      "cell_type": "code",
      "source": [
        ""
      ],
      "metadata": {
        "colab": {
          "base_uri": "https://localhost:8080/"
        },
        "id": "wQeCfi6QT9a-",
        "outputId": "a9a7657b-3179-4773-8276-984da577d5dc"
      },
      "execution_count": null,
      "outputs": [
        {
          "output_type": "execute_result",
          "data": {
            "text/plain": [
              "3"
            ]
          },
          "metadata": {},
          "execution_count": 3
        }
      ]
    },
    {
      "cell_type": "code",
      "source": [
        ""
      ],
      "metadata": {
        "id": "MP2E_x7ivNP-"
      },
      "execution_count": null,
      "outputs": []
    },
    {
      "cell_type": "code",
      "source": [
        ""
      ],
      "metadata": {
        "id": "W-Kpc7mZUA5p"
      },
      "execution_count": null,
      "outputs": []
    }
  ],
  "metadata": {
    "colab": {
      "name": "dsa.ipynb",
      "provenance": [],
      "collapsed_sections": [
        "wm1b9Mfu0Uw-"
      ],
      "include_colab_link": true
    },
    "kernelspec": {
      "display_name": "Python 3",
      "name": "python3"
    },
    "language_info": {
      "name": "python"
    }
  },
  "nbformat": 4,
  "nbformat_minor": 0
}